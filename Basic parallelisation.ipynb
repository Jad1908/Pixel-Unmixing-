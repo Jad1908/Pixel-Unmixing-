{
 "cells": [
  {
   "cell_type": "markdown",
   "metadata": {},
   "source": [
    "<img\n",
    "src=\"http://www.telecom-em.eu/sites/default/files/logoimt2016.JPG\"\n",
    "WIDTH=180 HEIGHT=180>\n",
    "\n",
    "<CENTER>\n",
    "<p>\n",
    "<font size=\"5\"> Introduction to parallel computing</font></p>\n",
    "</CENTER>"
   ]
  },
  {
   "cell_type": "markdown",
   "metadata": {},
   "source": [
    "----------------\n",
    "\n",
    "# Parallel programming\n",
    "\n",
    "Use the official documentation \n",
    "https://docs.julialang.org/en/v1/manual/parallel-computing/index.html\n",
    "\n",
    "Julia evolves quickly so you will be sure that the official documentation is up to date.\n",
    "\n",
    "Other resources can be found on the internet but not all of them are up to date...\n",
    "(e.g. https://codingclubuc3m.github.io/2018-06-06-Parallel-computing-Julia.html , replace all occurences of  @parallel by @distributed)\n",
    "\n"
   ]
  },
  {
   "cell_type": "code",
   "execution_count": 1,
   "metadata": {
    "ExecuteTime": {
     "end_time": "2020-10-21T14:09:56.900000+02:00",
     "start_time": "2020-10-21T12:09:52.284Z"
    }
   },
   "outputs": [
    {
     "data": {
      "text/plain": [
       "3-element Vector{Int64}:\n",
       " 2\n",
       " 3\n",
       " 4"
      ]
     },
     "execution_count": 1,
     "metadata": {},
     "output_type": "execute_result"
    }
   ],
   "source": [
    "# Using Pkg\n",
    "# Pkg.add(\"Distributed\")\n",
    "\n",
    "using Distributed\n",
    "\n",
    "CPU_CORES = 4 # number of cores on the machine\n",
    "\n",
    "# Before adding workers.\n",
    "nprocs()\n",
    "nworkers() # when there are no no extra workers, nprocs() = nworkers().\n",
    "\n",
    "# After adding them.\n",
    "addprocs(CPU_CORES - 1) # 4 cores\n",
    "# addprocs(1) # 2 cores\n",
    "nprocs()\n",
    "nworkers()\n",
    "workers()\n",
    "\n",
    "# nworkers() #Number of available worker processes. nworkers() = nprocs() - 1.\n",
    "# rmproc()"
   ]
  },
  {
   "cell_type": "markdown",
   "metadata": {},
   "source": [
    "### Using tasks"
   ]
  },
  {
   "cell_type": "code",
   "execution_count": 2,
   "metadata": {
    "ExecuteTime": {
     "end_time": "2020-10-21T14:10:00.082000+02:00",
     "start_time": "2020-10-21T12:09:59.826Z"
    }
   },
   "outputs": [
    {
     "data": {
      "text/plain": [
       "Task (runnable) @0x0000016370f17080"
      ]
     },
     "execution_count": 2,
     "metadata": {},
     "output_type": "execute_result"
    }
   ],
   "source": [
    "a() = sum(i for i in 1:1000) # sum of integers from 1 to 1000 = 500500\n",
    "b   = Task(a)  # or b = @task a()  # associate task to this function"
   ]
  },
  {
   "cell_type": "code",
   "execution_count": 3,
   "metadata": {
    "ExecuteTime": {
     "end_time": "2020-10-21T14:10:08.173000+02:00",
     "start_time": "2020-10-21T12:10:07.939Z"
    }
   },
   "outputs": [
    {
     "data": {
      "text/plain": [
       "false"
      ]
     },
     "execution_count": 3,
     "metadata": {},
     "output_type": "execute_result"
    }
   ],
   "source": [
    "istaskstarted(b) "
   ]
  },
  {
   "cell_type": "code",
   "execution_count": 4,
   "metadata": {
    "ExecuteTime": {
     "end_time": "2020-10-21T14:10:10.283000+02:00",
     "start_time": "2020-10-21T12:10:10.239Z"
    }
   },
   "outputs": [
    {
     "data": {
      "text/plain": [
       "Task (done) @0x0000016370f17080"
      ]
     },
     "execution_count": 4,
     "metadata": {},
     "output_type": "execute_result"
    }
   ],
   "source": [
    "schedule(b) # Adds the task to the scheduler's queue"
   ]
  },
  {
   "cell_type": "code",
   "execution_count": 5,
   "metadata": {
    "ExecuteTime": {
     "end_time": "2020-10-21T14:10:11.948000+02:00",
     "start_time": "2020-10-21T12:10:11.945Z"
    }
   },
   "outputs": [
    {
     "data": {
      "text/plain": [
       "true"
      ]
     },
     "execution_count": 5,
     "metadata": {},
     "output_type": "execute_result"
    }
   ],
   "source": [
    "istaskstarted(b)"
   ]
  },
  {
   "cell_type": "code",
   "execution_count": 6,
   "metadata": {
    "ExecuteTime": {
     "end_time": "2020-10-21T14:10:13.517000+02:00",
     "start_time": "2020-10-21T12:10:13.503Z"
    }
   },
   "outputs": [
    {
     "data": {
      "text/plain": [
       "true"
      ]
     },
     "execution_count": 6,
     "metadata": {},
     "output_type": "execute_result"
    }
   ],
   "source": [
    "istaskdone(b)"
   ]
  },
  {
   "cell_type": "code",
   "execution_count": 7,
   "metadata": {
    "ExecuteTime": {
     "end_time": "2020-10-21T14:10:15.363000+02:00",
     "start_time": "2020-10-21T12:10:15.314Z"
    }
   },
   "outputs": [
    {
     "data": {
      "text/plain": [
       "Task (done) @0x0000016370f17080"
      ]
     },
     "execution_count": 7,
     "metadata": {},
     "output_type": "execute_result"
    }
   ],
   "source": [
    "b"
   ]
  },
  {
   "cell_type": "code",
   "execution_count": 8,
   "metadata": {
    "ExecuteTime": {
     "end_time": "2020-10-21T14:10:20.144000+02:00",
     "start_time": "2020-10-21T12:10:19.920Z"
    }
   },
   "outputs": [
    {
     "data": {
      "text/plain": [
       "500500"
      ]
     },
     "execution_count": 8,
     "metadata": {},
     "output_type": "execute_result"
    }
   ],
   "source": [
    "fetch(b) # get the answer of task"
   ]
  },
  {
   "cell_type": "markdown",
   "metadata": {},
   "source": [
    "### Using several workers"
   ]
  },
  {
   "cell_type": "code",
   "execution_count": 9,
   "metadata": {
    "ExecuteTime": {
     "end_time": "2020-10-21T14:11:38.661000+02:00",
     "start_time": "2020-10-21T12:11:38.655Z"
    }
   },
   "outputs": [
    {
     "data": {
      "text/plain": [
       "3-element Vector{Int64}:\n",
       " 2\n",
       " 3\n",
       " 4"
      ]
     },
     "execution_count": 9,
     "metadata": {},
     "output_type": "execute_result"
    }
   ],
   "source": [
    "workers() # find out how many workers are active"
   ]
  },
  {
   "cell_type": "code",
   "execution_count": 10,
   "metadata": {
    "ExecuteTime": {
     "end_time": "2020-10-21T14:11:41.781000+02:00",
     "start_time": "2020-10-21T12:11:40.751Z"
    }
   },
   "outputs": [
    {
     "data": {
      "text/plain": [
       "2-element Vector{Int64}:\n",
       " 5\n",
       " 6"
      ]
     },
     "execution_count": 10,
     "metadata": {},
     "output_type": "execute_result"
    }
   ],
   "source": [
    "addprocs(2) # add two workers"
   ]
  },
  {
   "cell_type": "code",
   "execution_count": 11,
   "metadata": {
    "ExecuteTime": {
     "end_time": "2020-10-21T14:11:43.157000+02:00",
     "start_time": "2020-10-21T12:11:43.151Z"
    }
   },
   "outputs": [
    {
     "data": {
      "text/plain": [
       "5-element Vector{Int64}:\n",
       " 2\n",
       " 3\n",
       " 4\n",
       " 5\n",
       " 6"
      ]
     },
     "execution_count": 11,
     "metadata": {},
     "output_type": "execute_result"
    }
   ],
   "source": [
    "workers() "
   ]
  },
  {
   "cell_type": "code",
   "execution_count": 12,
   "metadata": {
    "ExecuteTime": {
     "end_time": "2020-10-21T14:11:46.262000+02:00",
     "start_time": "2020-10-21T12:11:45.890Z"
    }
   },
   "outputs": [
    {
     "data": {
      "text/plain": [
       "(6, Task (done) @0x00000163712a9750)"
      ]
     },
     "execution_count": 12,
     "metadata": {},
     "output_type": "execute_result"
    }
   ],
   "source": [
    "nprocs(),rmprocs(7) # list number of active processes, remove process with PID 7\n",
    "                      # rmprocs(1) does not work because procs = 1 is not a worker"
   ]
  },
  {
   "cell_type": "code",
   "execution_count": 13,
   "metadata": {
    "ExecuteTime": {
     "end_time": "2020-10-21T14:12:04.872000+02:00",
     "start_time": "2020-10-21T12:12:04.445Z"
    }
   },
   "outputs": [
    {
     "data": {
      "text/plain": [
       "Future(2, 1, 7, ReentrantLock(nothing, 0x00000000, 0x00, Base.GenericCondition{Base.Threads.SpinLock}(Base.IntrusiveLinkedList{Task}(nothing, nothing), Base.Threads.SpinLock(0)), (0, 1526583197952, 1526617392336)), nothing)"
      ]
     },
     "execution_count": 13,
     "metadata": {},
     "output_type": "execute_result"
    }
   ],
   "source": [
    "w = 2 # worker number 2\n",
    "r = remotecall(rand, w, 2, 2) # RemoteRef: reference to computed result.\n",
    "# call rand function to be executed on worker 2.A \"Future\" object is returned (something that will be fetched later on)"
   ]
  },
  {
   "cell_type": "code",
   "execution_count": 14,
   "metadata": {
    "ExecuteTime": {
     "end_time": "2020-10-21T14:12:43.976000+02:00",
     "start_time": "2020-10-21T12:12:43.054Z"
    }
   },
   "outputs": [
    {
     "data": {
      "text/plain": [
       "2×2 Matrix{Float64}:\n",
       " 0.768383   0.756695\n",
       " 0.0655836  0.556093"
      ]
     },
     "execution_count": 14,
     "metadata": {},
     "output_type": "execute_result"
    }
   ],
   "source": [
    "fetch(r)  # gets the computed result\n",
    "          # blocks main processor until result is available "
   ]
  },
  {
   "cell_type": "code",
   "execution_count": 15,
   "metadata": {
    "ExecuteTime": {
     "end_time": "2020-10-21T14:12:50.545000+02:00",
     "start_time": "2020-10-21T12:12:49.519Z"
    }
   },
   "outputs": [
    {
     "data": {
      "text/plain": [
       "5.0"
      ]
     },
     "execution_count": 15,
     "metadata": {},
     "output_type": "execute_result"
    }
   ],
   "source": [
    "x,y = 3,4\n",
    "ψ= (x,y)->sqrt(x^2+y^2)\n",
    "remotecall_fetch(ψ,w,x,y) # obtain value of computation of psi by worker number w and passing arguments x,y (both remotecall and fetch are performed at the same time)"
   ]
  },
  {
   "cell_type": "code",
   "execution_count": 16,
   "metadata": {
    "ExecuteTime": {
     "end_time": "2020-10-21T14:13:55.360000+02:00",
     "start_time": "2020-10-21T12:13:54.226Z"
    }
   },
   "outputs": [
    {
     "data": {
      "text/plain": [
       "2×2 Matrix{Float64}:\n",
       " 1.76838    0.756695\n",
       " 0.0655836  1.55609"
      ]
     },
     "execution_count": 16,
     "metadata": {},
     "output_type": "execute_result"
    }
   ],
   "source": [
    "using LinearAlgebra: diagm\n",
    "\n",
    "w  = 3\n",
    "d  = diagm(0=>[1,1]) # diagonal matrix with ones on the diagonal (first argument is the index of the diagonal used)\n",
    "ex = :($d+fetch($r)) # this computes the value of d + r (which was computed by process 2)\n",
    "s  = @spawnat w eval(ex) # worker w calculates expression ex\n",
    "         # equivalent to s = @spawnat 3 [1 0;0 1]+fetch(r)\n",
    "fetch(s)\n",
    "\n",
    "# here we just passed information from worker 2 to 3 (if task performed at 3 requires info from task performed at 2)"
   ]
  },
  {
   "cell_type": "code",
   "execution_count": 17,
   "metadata": {
    "ExecuteTime": {
     "end_time": "2020-10-21T14:16:14.756000+02:00",
     "start_time": "2020-10-21T12:16:14.350Z"
    }
   },
   "outputs": [
    {
     "data": {
      "text/plain": [
       "2×2 Matrix{Float64}:\n",
       " 0.236882  0.358619\n",
       " 0.977097  0.840854"
      ]
     },
     "execution_count": 17,
     "metadata": {},
     "output_type": "execute_result"
    }
   ],
   "source": [
    "s= @spawn  sin.(randn(2,2)) #worker is chosen automatically if not specified\n",
    "fetch(s)"
   ]
  },
  {
   "cell_type": "code",
   "execution_count": 18,
   "metadata": {
    "ExecuteTime": {
     "end_time": "2020-10-21T14:17:00.453000+02:00",
     "start_time": "2020-10-21T12:16:58.286Z"
    }
   },
   "outputs": [
    {
     "data": {
      "text/plain": [
       "5-element Vector{Float64}:\n",
       " -2581.4272353560655\n",
       "   227.44715452527038\n",
       "   -30.691584101535643\n",
       "   110.9495426632715\n",
       "  -656.9499866938274"
      ]
     },
     "execution_count": 18,
     "metadata": {},
     "output_type": "execute_result"
    }
   ],
   "source": [
    "@everywhere using LinearAlgebra: det # execute this on all processes (load this function on every process)\n",
    "result = [@spawnat w det(randn(10,10)) for w in workers()] # execute this function on all processes through a loop\n",
    "# all processes have access to the function det\n",
    "[fetch(result[k]) for k=1:nprocs()-1] # get results on all current processes"
   ]
  },
  {
   "cell_type": "code",
   "execution_count": 19,
   "metadata": {
    "ExecuteTime": {
     "end_time": "2020-10-21T14:17:06.562000+02:00",
     "start_time": "2020-10-21T12:17:06.111Z"
    }
   },
   "outputs": [
    {
     "name": "stdout",
     "output_type": "stream",
     "text": [
      "-2997.767123325436\n",
      "      From worker 2:\t137.60166161796403\n",
      "      From worker 4:\t3102.9780024007705\n"
     ]
    }
   ],
   "source": [
    "@everywhere println(det(randn(10,10))) # same calculation on each worker"
   ]
  },
  {
   "cell_type": "code",
   "execution_count": 20,
   "metadata": {
    "ExecuteTime": {
     "end_time": "2020-10-21T14:23:18.021000+02:00",
     "start_time": "2020-10-21T12:23:17.970Z"
    }
   },
   "outputs": [
    {
     "name": "stdout",
     "output_type": "stream",
     "text": [
      "      From worker 5:\t-2422.770130536894\n",
      "      From worker 3:\t-10.174328111618731\n",
      "      From worker 6:\t21.90191099733196\n",
      "5.059522439701156\n",
      "      From worker 2:\t4.422386297319377\n",
      "      From worker 4:\t4.930406395848587\n",
      "      From worker 6:\t5.512892318184002\n",
      "      From worker 5:\t6.693447597016816"
     ]
    }
   ],
   "source": [
    "@everywhere function f(x::Float64)\n",
    "    println(x +randn())\n",
    "end \n",
    "@everywhere x=5.\n",
    "@everywhere f(x)"
   ]
  },
  {
   "cell_type": "markdown",
   "metadata": {},
   "source": [
    "### Parallel loops"
   ]
  },
  {
   "cell_type": "code",
   "execution_count": 21,
   "metadata": {
    "ExecuteTime": {
     "end_time": "2020-10-21T14:33:25.649000+02:00",
     "start_time": "2020-10-21T12:33:25.616Z"
    },
    "scrolled": true
   },
   "outputs": [
    {
     "name": "stdout",
     "output_type": "stream",
     "text": [
      "\n",
      "      From worker 3:\t5.20697166819353\n",
      "  0.000932 seconds\n"
     ]
    },
    {
     "data": {
      "text/plain": [
       "3.14956"
      ]
     },
     "execution_count": 21,
     "metadata": {},
     "output_type": "execute_result"
    }
   ],
   "source": [
    "function MC_pi(n) # approximation of pi using MC method\n",
    "    s = 0\n",
    "    for k in 1:n\n",
    "        if rand()^2+rand()^2<1. # if we fall in the disk (all possible numbers are in the square)\n",
    "            s=s+1 # add 1\n",
    "        end\n",
    "    end\n",
    "    4*s/n # ratio between area of circle and square is π/4, s/n is an estimation of that ratio \n",
    "    #(number of points falling in the circle/total)\n",
    "end\n",
    "@time MC_pi(10^5)"
   ]
  },
  {
   "cell_type": "markdown",
   "metadata": {
    "ExecuteTime": {
     "end_time": "2020-10-21T14:24:03.971000+02:00",
     "start_time": "2020-10-21T12:24:02.961Z"
    }
   },
   "source": [
    "workers()\n",
    "addprocs(3)\n",
    "workers()"
   ]
  },
  {
   "cell_type": "markdown",
   "metadata": {},
   "source": [
    "### The map and pmaps functions\n",
    "\n",
    "map allows to call the same function for different inputs of the same sizes.\n",
    "\n",
    "pmap does the same but distributes all the arguments to the different processes"
   ]
  },
  {
   "cell_type": "code",
   "execution_count": 22,
   "metadata": {
    "ExecuteTime": {
     "end_time": "2020-10-21T14:33:44.837000+02:00",
     "start_time": "2020-10-21T12:33:39.361Z"
    }
   },
   "outputs": [
    {
     "name": "stdout",
     "output_type": "stream",
     "text": [
      " 15.781999 seconds (5.31 M allocations: 187.768 MiB, 0.48% gc time, 6.98% compilation time)\n"
     ]
    },
    {
     "data": {
      "text/plain": [
       "3.141"
      ]
     },
     "execution_count": 22,
     "metadata": {},
     "output_type": "execute_result"
    }
   ],
   "source": [
    "function MC_pi_parallel(n)\n",
    "    @everywhere function g(x) # function computing whether a point is in the circle or not\n",
    "        rand()^2+rand()^2<1. ? 1 : 0 # no data is required here, function returns 1 if condition is true, 0 othw\n",
    "    end\n",
    "    s = sum(pmap(g,collect(1:n))) # we call function g with N different arguments, and distribute the computations\n",
    "    4*s/n\n",
    "end\n",
    "@time MC_pi_parallel(10^5)\n"
   ]
  },
  {
   "cell_type": "markdown",
   "metadata": {
    "ExecuteTime": {
     "end_time": "2020-10-21T14:32:05.880000+02:00",
     "start_time": "2020-10-21T12:32:05.872Z"
    }
   },
   "source": [
    "\"pmap\" is slower here! The reason is that the tasks made by each worker are too simple and fast, but they are numerous, so the overhead from transferring data in and out for each worker dominates the computing time"
   ]
  },
  {
   "cell_type": "code",
   "execution_count": 23,
   "metadata": {
    "ExecuteTime": {
     "end_time": "2020-10-21T14:34:07.495000+02:00",
     "start_time": "2020-10-21T12:34:03.262Z"
    }
   },
   "outputs": [
    {
     "name": "stdout",
     "output_type": "stream",
     "text": [
      "  3.975591 seconds (35.69 k allocations: 766.035 MiB, 4.02% gc time, 0.96% compilation time)\n",
      "  3.372015 seconds (417.59 k allocations: 27.853 MiB, 32.46% compilation time)\n"
     ]
    }
   ],
   "source": [
    "M = [randn(1000,1000) for k=1:100];\n",
    "@time [det(m) for m in M];\n",
    "@time pmap(det,M);  #parallel mapping of a function\n"
   ]
  },
  {
   "cell_type": "markdown",
   "metadata": {},
   "source": [
    "### Recovering returned values, Sending data and passing arguments to pmap"
   ]
  },
  {
   "cell_type": "code",
   "execution_count": 24,
   "metadata": {
    "ExecuteTime": {
     "end_time": "2020-10-21T14:36:33.158000+02:00",
     "start_time": "2020-10-21T12:36:31.862Z"
    }
   },
   "outputs": [
    {
     "name": "stdout",
     "output_type": "stream",
     "text": [
      "  1.347254 seconds (491.73 k allocations: 32.344 MiB, 52.57% compilation time)\n",
      "  3.293958 seconds (288.51 k allocations: 172.764 MiB, 2.45% gc time, 13.14% compilation time)\n",
      "(1000,)\n",
      "0.0\n"
     ]
    }
   ],
   "source": [
    "M = 100\n",
    "N = 1000\n",
    "X = randn(M,N)\n",
    "\n",
    "X_parallel = [X[:,k] for k = 1:N]; # this creates an array containing all columns of X that can be iterated over\n",
    "\n",
    "@everywhere using LinearAlgebra: det\n",
    "\n",
    "@time dets = pmap(x -> det(x*x'),X_parallel);\n",
    "@time dets = map(x -> det(x*x'),X_parallel);\n",
    "\n",
    "println(size(dets))\n",
    "println(dets[2]) # this is 0 because matrix has always a rank of 1"
   ]
  },
  {
   "cell_type": "code",
   "execution_count": 25,
   "metadata": {
    "ExecuteTime": {
     "end_time": "2020-10-21T14:37:31.725000+02:00",
     "start_time": "2020-10-21T12:37:30.371Z"
    }
   },
   "outputs": [
    {
     "name": "stdout",
     "output_type": "stream",
     "text": [
      "  0.833735 seconds (121.44 k allocations: 7.486 MiB, 23.51% compilation time)\n",
      "  2.682360 seconds (291.45 k allocations: 325.226 MiB, 2.24% gc time, 15.14% compilation time)\n",
      "(1000,)\n",
      "12619.514295933546\n"
     ]
    }
   ],
   "source": [
    "# we need anonymous functions to call custom functions with pmap\n",
    "# need the correct prototype to send parameters\n",
    "@everywhere using LinearAlgebra: I\n",
    "\n",
    "@everywhere function custom_det(x,λ,M) # computes the determinant of a new matrix with parameters\n",
    "    return  determinant = det(x'*x .+ λ*Matrix{Float64}(I, M, M))\n",
    "end\n",
    "λ = 1\n",
    "\n",
    "@time dets = pmap(x -> custom_det(x,λ,M),X_parallel);\n",
    "@time dets = map(x -> custom_det(x,λ,M),X_parallel);\n",
    "\n",
    "println(size(dets))\n",
    "println(dets[2]) # this is 0 because matrix has always a rank of 1"
   ]
  },
  {
   "cell_type": "code",
   "execution_count": null,
   "metadata": {},
   "outputs": [],
   "source": []
  },
  {
   "cell_type": "code",
   "execution_count": null,
   "metadata": {},
   "outputs": [],
   "source": []
  },
  {
   "cell_type": "markdown",
   "metadata": {},
   "source": [
    "### Distributed arrays"
   ]
  },
  {
   "cell_type": "code",
   "execution_count": 34,
   "metadata": {
    "ExecuteTime": {
     "end_time": "2020-10-21T14:37:41.300000+02:00",
     "start_time": "2020-10-21T12:37:41.297Z"
    }
   },
   "outputs": [
    {
     "name": "stderr",
     "output_type": "stream",
     "text": [
      "\u001b[32m\u001b[1m   Resolving\u001b[22m\u001b[39m package versions...\n",
      "\u001b[32m\u001b[1m   Installed\u001b[22m\u001b[39m Primes ──────────── v0.5.5\n",
      "\u001b[32m\u001b[1m   Installed\u001b[22m\u001b[39m IntegerMathUtils ── v0.1.2\n",
      "\u001b[32m\u001b[1m   Installed\u001b[22m\u001b[39m DistributedArrays ─ v0.6.7\n",
      "\u001b[32m\u001b[1m    Updating\u001b[22m\u001b[39m `C:\\Users\\ASUS\\.julia\\environments\\v1.9\\Project.toml`\n",
      "  \u001b[90m[aaf54ef3] \u001b[39m\u001b[92m+ DistributedArrays v0.6.7\u001b[39m\n",
      "\u001b[32m\u001b[1m    Updating\u001b[22m\u001b[39m `C:\\Users\\ASUS\\.julia\\environments\\v1.9\\Manifest.toml`\n",
      "  \u001b[90m[aaf54ef3] \u001b[39m\u001b[92m+ DistributedArrays v0.6.7\u001b[39m\n",
      "  \u001b[90m[18e54dd8] \u001b[39m\u001b[92m+ IntegerMathUtils v0.1.2\u001b[39m\n",
      "  \u001b[90m[27ebfcd6] \u001b[39m\u001b[92m+ Primes v0.5.5\u001b[39m\n",
      "\u001b[32m\u001b[1mPrecompiling\u001b[22m\u001b[39m project...\n",
      "\u001b[32m  ✓ \u001b[39m\u001b[90mIntegerMathUtils\u001b[39m\n",
      "\u001b[32m  ✓ \u001b[39m\u001b[90mlibsixel_jll\u001b[39m\n",
      "\u001b[32m  ✓ \u001b[39m\u001b[90mXSLT_jll\u001b[39m\n",
      "\u001b[32m  ✓ \u001b[39m\u001b[90mOpenSSL\u001b[39m\n",
      "\u001b[32m  ✓ \u001b[39m\u001b[90mJpegTurbo\u001b[39m\n",
      "\u001b[32m  ✓ \u001b[39m\u001b[90mImageMagick_jll\u001b[39m\n",
      "\u001b[32m  ✓ \u001b[39mSymPy\n",
      "\u001b[32m  ✓ \u001b[39m\u001b[90mPrimes\u001b[39m\n",
      "\u001b[32m  ✓ \u001b[39m\u001b[90mXorg_libxcb_jll\u001b[39m\n",
      "\u001b[32m  ✓ \u001b[39m\u001b[90mSixel\u001b[39m\n",
      "\u001b[32m  ✓ \u001b[39m\u001b[90mPNGFiles\u001b[39m\n",
      "\u001b[32m  ✓ \u001b[39m\u001b[90mHTTP\u001b[39m\n",
      "\u001b[32m  ✓ \u001b[39mDistributedArrays\n",
      "\u001b[32m  ✓ \u001b[39m\u001b[90mXorg_xcb_util_jll\u001b[39m\n",
      "\u001b[32m  ✓ \u001b[39m\u001b[90mImageShow\u001b[39m\n",
      "\u001b[32m  ✓ \u001b[39m\u001b[90mXorg_libX11_jll\u001b[39m\n",
      "\u001b[32m  ✓ \u001b[39m\u001b[90mXorg_xcb_util_keysyms_jll\u001b[39m\n",
      "\u001b[32m  ✓ \u001b[39m\u001b[90mImageIO\u001b[39m\n",
      "\u001b[32m  ✓ \u001b[39m\u001b[90mXorg_xcb_util_renderutil_jll\u001b[39m\n",
      "\u001b[32m  ✓ \u001b[39m\u001b[90mXorg_xcb_util_image_jll\u001b[39m\n",
      "\u001b[32m  ✓ \u001b[39m\u001b[90mXorg_xcb_util_wm_jll\u001b[39m\n",
      "\u001b[32m  ✓ \u001b[39m\u001b[90mImageMagick\u001b[39m\n",
      "\u001b[32m  ✓ \u001b[39m\u001b[90mXorg_libXrender_jll\u001b[39m\n",
      "\u001b[32m  ✓ \u001b[39m\u001b[90mXorg_libXfixes_jll\u001b[39m\n",
      "\u001b[32m  ✓ \u001b[39m\u001b[90mXorg_libXext_jll\u001b[39m\n",
      "\u001b[32m  ✓ \u001b[39m\u001b[90mXorg_libxkbfile_jll\u001b[39m\n",
      "\u001b[32m  ✓ \u001b[39m\u001b[90mXorg_libXcursor_jll\u001b[39m\n",
      "\u001b[32m  ✓ \u001b[39m\u001b[90mXorg_libXinerama_jll\u001b[39m\n",
      "\u001b[32m  ✓ \u001b[39m\u001b[90mXorg_libXi_jll\u001b[39m\n",
      "\u001b[32m  ✓ \u001b[39m\u001b[90mLibglvnd_jll\u001b[39m\n",
      "\u001b[32m  ✓ \u001b[39m\u001b[90mXorg_libXrandr_jll\u001b[39m\n",
      "\u001b[32m  ✓ \u001b[39m\u001b[90mXorg_xkbcomp_jll\u001b[39m\n",
      "\u001b[32m  ✓ \u001b[39m\u001b[90mGLFW_jll\u001b[39m\n",
      "\u001b[32m  ✓ \u001b[39m\u001b[90mXorg_xkeyboard_config_jll\u001b[39m\n",
      "\u001b[32m  ✓ \u001b[39m\u001b[90mxkbcommon_jll\u001b[39m\n",
      "\u001b[32m  ✓ \u001b[39m\u001b[90mPolynomials\u001b[39m\n",
      "\u001b[32m  ✓ \u001b[39m\u001b[90mQt5Base_jll\u001b[39m\n",
      "\u001b[32m  ✓ \u001b[39m\u001b[90mCairo_jll\u001b[39m\n",
      "\u001b[32m  ✓ \u001b[39m\u001b[90mPolynomials → PolynomialsChainRulesCoreExt\u001b[39m\n",
      "\u001b[32m  ✓ \u001b[39m\u001b[90mImageBinarization\u001b[39m\n",
      "\u001b[32m  ✓ \u001b[39m\u001b[90mHarfBuzz_jll\u001b[39m\n",
      "\u001b[32m  ✓ \u001b[39m\u001b[90mlibass_jll\u001b[39m\n",
      "\u001b[32m  ✓ \u001b[39mImages\n",
      "\u001b[32m  ✓ \u001b[39m\u001b[90mFFMPEG_jll\u001b[39m\n",
      "\u001b[32m  ✓ \u001b[39m\u001b[90mFFMPEG\u001b[39m\n",
      "\u001b[32m  ✓ \u001b[39m\u001b[90mGR_jll\u001b[39m\n",
      "\u001b[32m  ✓ \u001b[39m\u001b[90mGR\u001b[39m\n",
      "\u001b[32m  ✓ \u001b[39mPlots\n",
      "\u001b[32m  ✓ \u001b[39m\u001b[90mPlots → FileIOExt\u001b[39m\n",
      "\u001b[32m  ✓ \u001b[39m\u001b[90mPlots → IJuliaExt\u001b[39m\n",
      "\u001b[32m  ✓ \u001b[39m\u001b[90mPlots → UnitfulExt\u001b[39m\n",
      "\u001b[32m  ✓ \u001b[39mStatsPlots\n",
      "  52 dependencies successfully precompiled in 328 seconds. 262 already precompiled.\n"
     ]
    }
   ],
   "source": [
    "using Pkg\n",
    "Pkg.add(\"DistributedArrays\") # compatibility pb with julia 1.2\n"
   ]
  },
  {
   "cell_type": "code",
   "execution_count": 35,
   "metadata": {
    "ExecuteTime": {
     "end_time": "2020-10-21T14:37:45.537000+02:00",
     "start_time": "2020-10-21T12:37:43.694Z"
    }
   },
   "outputs": [],
   "source": [
    "@everywhere using DistributedArrays # distributed arrays are arrays that can be accessed and modified by any process"
   ]
  },
  {
   "cell_type": "code",
   "execution_count": 36,
   "metadata": {
    "ExecuteTime": {
     "end_time": "2020-10-21T14:39:20.384000+02:00",
     "start_time": "2020-10-21T12:39:20.369Z"
    }
   },
   "outputs": [
    {
     "data": {
      "text/plain": [
       "100×100 DArray{Float64, 2, Matrix{Float64}}:\n",
       "  1.18814     0.422681    0.450962   -0.482658  …   0.357781    -0.0210447\n",
       " -0.41439     0.286582    0.0111516  -0.640546      1.97215     -0.157579\n",
       "  0.947658   -0.258985   -0.330954    0.373281     -0.988894     0.648848\n",
       " -0.239755    0.323074    0.142217   -0.447602      1.20229      1.26713\n",
       " -0.771207    1.35612    -0.0833835   1.63494       0.0146511    0.880515\n",
       " -1.47298    -0.649393   -0.860647   -0.461034  …   1.09864      0.129528\n",
       "  0.476586   -0.0464275   1.91947     1.27594       0.406454    -0.294126\n",
       " -0.0208718  -0.228948   -1.07559    -0.841695      0.327868    -0.724863\n",
       " -1.01898     1.19777     1.33577     1.01085       0.439644     0.405333\n",
       "  0.375037    0.164794    0.823919   -0.447744      0.714095     0.0416126\n",
       " -1.65748    -0.195948    1.2115     -0.863233  …   0.703068     0.0310144\n",
       " -2.5549      0.649844    1.26907    -0.128673      0.304069     2.33844\n",
       " -1.74131    -1.05486    -0.030598    0.185805      1.02395     -0.740034\n",
       "  ⋮                                             ⋱               \n",
       " -0.913833    0.124144   -0.296146    0.934399      1.02869     -0.0215828\n",
       "  0.168486   -0.248882    2.0502      0.174002     -0.234794     0.536337\n",
       "  1.14831     1.3279     -0.477228   -0.850921  …  -1.25912     -0.755428\n",
       " -1.0113      0.167795    0.26224    -0.544291     -0.592661     1.95495\n",
       "  1.76954    -2.79658     0.180641   -0.369927     -0.10979     -2.40951\n",
       " -1.6609      1.01017     0.448544    0.692134      0.561881    -1.9798\n",
       " -0.0628034  -0.333979   -0.109187    1.02748       1.13207      1.09245\n",
       " -0.491288   -0.849081   -0.335987   -0.181899  …   0.114782    -0.0932633\n",
       "  0.653148    0.795947    0.946563   -1.52119      -1.07404      0.00993856\n",
       " -0.430335   -0.378876   -0.3887      0.729975      1.08344      1.78185\n",
       "  0.965433   -1.13959     0.601845   -0.428768      0.204801     0.0732128\n",
       "  2.5414      0.323114    1.58503     2.14912      -0.00302809   0.96062"
      ]
     },
     "execution_count": 36,
     "metadata": {},
     "output_type": "execute_result"
    }
   ],
   "source": [
    "A = drandn(100,100) # directly generate distributed array\n",
    "B = randn(100,100) \n",
    "dB = distribute(B) # convert array to distributed array\n",
    "#C = @DArray [i+j for i = 1:100, j = 1:100];"
   ]
  },
  {
   "cell_type": "code",
   "execution_count": 37,
   "metadata": {
    "ExecuteTime": {
     "end_time": "2020-10-21T14:39:27.984000+02:00",
     "start_time": "2020-10-21T12:39:22.337Z"
    }
   },
   "outputs": [
    {
     "name": "stdout",
     "output_type": "stream",
     "text": [
      " 11.217067 seconds (2.16 M allocations: 141.912 MiB, 19.24% compilation time: 3% of which was recompilation)\n",
      "  0.021145 seconds (3.70 k allocations: 435.883 KiB)\n",
      "  1.208637 seconds (1.23 M allocations: 83.788 MiB, 99.49% compilation time)\n"
     ]
    }
   ],
   "source": [
    "@time A*A; # distributed array\n",
    "@time dB*dB; # converted distributed array\n",
    "@time B*B; # standard array"
   ]
  },
  {
   "cell_type": "code",
   "execution_count": 38,
   "metadata": {
    "ExecuteTime": {
     "end_time": "2020-10-21T14:40:01.667000+02:00",
     "start_time": "2020-10-21T12:40:01.439Z"
    }
   },
   "outputs": [
    {
     "name": "stdout",
     "output_type": "stream",
     "text": [
      "  0.059840 seconds (37.38 k allocations: 2.682 MiB, 97.88% compilation time)\n",
      "  0.523431 seconds (122.28 k allocations: 8.195 MiB, 51.51% compilation time: 37% of which was recompilation)\n"
     ]
    }
   ],
   "source": [
    "@time [i+j for i = 1:100, j = 1:100];\n",
    "@time @DArray [i+j for i = 1:100, j = 1:100];"
   ]
  },
  {
   "cell_type": "code",
   "execution_count": 39,
   "metadata": {
    "ExecuteTime": {
     "end_time": "2020-10-21T14:48:08.400000+02:00",
     "start_time": "2020-10-21T12:48:08.389Z"
    }
   },
   "outputs": [
    {
     "name": "stdout",
     "output_type": "stream",
     "text": [
      "6\n"
     ]
    }
   ],
   "source": [
    "println(nprocs())\n",
    "# addprocs(7)\n",
    "# rmprocs(12:13)\n",
    "@everywhere using DistributedArrays\n",
    "# WorkerPool([2,3,4])\n",
    "# @DArray [@show x^2 for x = 1:10]; # print all squares from 1 to 10 (not in order because taken care of by different processes)"
   ]
  },
  {
   "cell_type": "code",
   "execution_count": 40,
   "metadata": {
    "ExecuteTime": {
     "end_time": "2020-10-21T14:48:13.414000+02:00",
     "start_time": "2020-10-21T12:48:12.817Z"
    }
   },
   "outputs": [
    {
     "name": "stdout",
     "output_type": "stream",
     "text": [
      "  1.229742 seconds (467.75 k allocations: 27.557 MiB, 60.15% compilation time)\n",
      "  4.789114 seconds (54.76 k allocations: 766.464 MiB, 1.95% gc time, 3.46% compilation time)\n"
     ]
    }
   ],
   "source": [
    "# results depending on nb of procs and data size\n",
    "@time @DArray [x^2 for x = 1:10^8]; # distributed version (only advantageous for large datasets)\n",
    "@time [x^2 for x = 1:10^8]; # standard version\n",
    "\n",
    "# test as a function of number of processes and data size"
   ]
  },
  {
   "cell_type": "code",
   "execution_count": 41,
   "metadata": {
    "ExecuteTime": {
     "end_time": "2020-10-21T14:48:25.209000+02:00",
     "start_time": "2020-10-21T12:48:24.977Z"
    }
   },
   "outputs": [
    {
     "data": {
      "text/plain": [
       "100×100 DArray{Float64, 2, Matrix{Float64}}:\n",
       " 0.0  0.0  0.0  0.0  0.0  0.0  0.0  0.0  …  0.0  0.0  0.0  0.0  0.0  0.0  0.0\n",
       " 0.0  0.0  0.0  0.0  0.0  0.0  0.0  0.0     0.0  0.0  0.0  0.0  0.0  0.0  0.0\n",
       " 0.0  0.0  0.0  0.0  0.0  0.0  0.0  0.0     0.0  0.0  0.0  0.0  0.0  0.0  0.0\n",
       " 0.0  0.0  0.0  0.0  0.0  0.0  0.0  0.0     0.0  0.0  0.0  0.0  0.0  0.0  0.0\n",
       " 0.0  0.0  0.0  0.0  0.0  0.0  0.0  0.0     0.0  0.0  0.0  0.0  0.0  0.0  0.0\n",
       " 0.0  0.0  0.0  0.0  0.0  0.0  0.0  0.0  …  0.0  0.0  0.0  0.0  0.0  0.0  0.0\n",
       " 0.0  0.0  0.0  0.0  0.0  0.0  0.0  0.0     0.0  0.0  0.0  0.0  0.0  0.0  0.0\n",
       " 0.0  0.0  0.0  0.0  0.0  0.0  0.0  0.0     0.0  0.0  0.0  0.0  0.0  0.0  0.0\n",
       " 0.0  0.0  0.0  0.0  0.0  0.0  0.0  0.0     0.0  0.0  0.0  0.0  0.0  0.0  0.0\n",
       " 0.0  0.0  0.0  0.0  0.0  0.0  0.0  0.0     0.0  0.0  0.0  0.0  0.0  0.0  0.0\n",
       " 0.0  0.0  0.0  0.0  0.0  0.0  0.0  0.0  …  0.0  0.0  0.0  0.0  0.0  0.0  0.0\n",
       " 0.0  0.0  0.0  0.0  0.0  0.0  0.0  0.0     0.0  0.0  0.0  0.0  0.0  0.0  0.0\n",
       " 0.0  0.0  0.0  0.0  0.0  0.0  0.0  0.0     0.0  0.0  0.0  0.0  0.0  0.0  0.0\n",
       " ⋮                        ⋮              ⋱            ⋮                   \n",
       " 0.0  0.0  0.0  0.0  0.0  0.0  0.0  0.0     0.0  0.0  0.0  0.0  0.0  0.0  0.0\n",
       " 0.0  0.0  0.0  0.0  0.0  0.0  0.0  0.0     0.0  0.0  0.0  0.0  0.0  0.0  0.0\n",
       " 0.0  0.0  0.0  0.0  0.0  0.0  0.0  0.0  …  0.0  0.0  0.0  0.0  0.0  0.0  0.0\n",
       " 0.0  0.0  0.0  0.0  0.0  0.0  0.0  0.0     0.0  0.0  0.0  0.0  0.0  0.0  0.0\n",
       " 0.0  0.0  0.0  0.0  0.0  0.0  0.0  0.0     0.0  0.0  0.0  0.0  0.0  0.0  0.0\n",
       " 0.0  0.0  0.0  0.0  0.0  0.0  0.0  0.0     0.0  0.0  0.0  0.0  0.0  0.0  0.0\n",
       " 0.0  0.0  0.0  0.0  0.0  0.0  0.0  0.0     0.0  0.0  0.0  0.0  0.0  0.0  0.0\n",
       " 0.0  0.0  0.0  0.0  0.0  0.0  0.0  0.0  …  0.0  0.0  0.0  0.0  0.0  0.0  0.0\n",
       " 0.0  0.0  0.0  0.0  0.0  0.0  0.0  0.0     0.0  0.0  0.0  0.0  0.0  0.0  0.0\n",
       " 0.0  0.0  0.0  0.0  0.0  0.0  0.0  0.0     0.0  0.0  0.0  0.0  0.0  0.0  0.0\n",
       " 0.0  0.0  0.0  0.0  0.0  0.0  0.0  0.0     0.0  0.0  0.0  0.0  0.0  0.0  0.0\n",
       " 0.0  0.0  0.0  0.0  0.0  0.0  0.0  0.0     0.0  0.0  0.0  0.0  0.0  0.0  0.0"
      ]
     },
     "execution_count": 41,
     "metadata": {},
     "output_type": "execute_result"
    }
   ],
   "source": [
    "dzeros((100,100), workers()[1:4], [1,4]) # creates a distributed zero array where \n",
    "# the second dimension is spread around workers 1 to 4"
   ]
  },
  {
   "cell_type": "markdown",
   "metadata": {},
   "source": [
    "------------"
   ]
  }
 ],
 "metadata": {
  "@webio": {
   "lastCommId": null,
   "lastKernelId": null
  },
  "kernelspec": {
   "display_name": "Julia 1.9.3",
   "language": "julia",
   "name": "julia-1.9"
  },
  "language_info": {
   "file_extension": ".jl",
   "mimetype": "application/julia",
   "name": "julia",
   "version": "1.9.3"
  },
  "latex_envs": {
   "LaTeX_envs_menu_present": true,
   "autoclose": false,
   "autocomplete": true,
   "bibliofile": "biblio.bib",
   "cite_by": "apalike",
   "current_citInitial": 1,
   "eqLabelWithNumbers": true,
   "eqNumInitial": 1,
   "hotkeys": {
    "equation": "Ctrl-E",
    "itemize": "Ctrl-I"
   },
   "labels_anchors": false,
   "latex_user_defs": false,
   "report_style_numbering": false,
   "user_envs_cfg": false
  }
 },
 "nbformat": 4,
 "nbformat_minor": 1
}
